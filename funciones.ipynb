{
  "nbformat": 4,
  "nbformat_minor": 0,
  "metadata": {
    "colab": {
      "provenance": [],
      "include_colab_link": true
    },
    "kernelspec": {
      "name": "python3",
      "display_name": "Python 3"
    },
    "language_info": {
      "name": "python"
    }
  },
  "cells": [
    {
      "cell_type": "markdown",
      "metadata": {
        "id": "view-in-github",
        "colab_type": "text"
      },
      "source": [
        "<a href=\"https://colab.research.google.com/github/rodhr2/website/blob/main/funciones.ipynb\" target=\"_parent\"><img src=\"https://colab.research.google.com/assets/colab-badge.svg\" alt=\"Open In Colab\"/></a>"
      ]
    },
    {
      "cell_type": "markdown",
      "source": [
        "# Funciones\n",
        "\n",
        "## ¿Qué es una función?\n",
        "\n",
        "Una función es una sección de un programa que agrupa un conjunto de declaraciones para que puedan ejecutarse más de una vez. También pueden permitirnos especificar parámetros que pueden servir como entradas a las funciones. Esto nos permite no tener que escribir repetidamente el mismo código una y otra vez.\n",
        "\n",
        "Las funciones son una herramienta reutilización de código en Python, y un bloque clave en todo programa/aplicación\n",
        "\n",
        "En pocas palabras, debe usar funciones cuando planee usar un bloque de código varias veces. La función le permitirá llamar al mismo bloque de código sin tener que escribirlo varias veces."
      ],
      "metadata": {
        "id": "H8WWO1YDysyd"
      }
    },
    {
      "cell_type": "code",
      "source": [
        "# Print es una funcion\n",
        "\n",
        "\n"
      ],
      "metadata": {
        "id": "RJNMdRvEDBxu"
      },
      "execution_count": null,
      "outputs": []
    },
    {
      "cell_type": "code",
      "source": [
        "# Funcion para saludar una lista\n"
      ],
      "metadata": {
        "id": "WVjNHEOTDSFO"
      },
      "execution_count": null,
      "outputs": []
    },
    {
      "cell_type": "code",
      "source": [
        "# Veamos cual es el resultado de nuestra función\n",
        "nombres = []\n",
        "hola(nombres)"
      ],
      "metadata": {
        "colab": {
          "base_uri": "https://localhost:8080/"
        },
        "id": "xc85TCgxDbw-",
        "outputId": "ed101d24-1ce1-44a6-8037-214312ba080a"
      },
      "execution_count": null,
      "outputs": [
        {
          "output_type": "stream",
          "name": "stdout",
          "text": [
            "Hola Tania\n",
            "Hola Karina\n",
            "Hola Maria Emilia\n"
          ]
        }
      ]
    },
    {
      "cell_type": "code",
      "source": [
        "# Por ejemplo, en esta clase ya hemos conocido algunas funciones\n",
        "# print\n",
        "\n",
        "# len\n",
        "\n",
        "# type\n"
      ],
      "metadata": {
        "colab": {
          "base_uri": "https://localhost:8080/"
        },
        "id": "fsCFX0B42BHP",
        "outputId": "dd655122-a0fd-4486-8912-8d93c3c7e3a0"
      },
      "execution_count": null,
      "outputs": [
        {
          "output_type": "stream",
          "name": "stdout",
          "text": [
            "hola\n",
            "4\n",
            "<class 'str'>\n"
          ]
        }
      ]
    },
    {
      "cell_type": "markdown",
      "source": [
        "### **DEF**iniendo una función"
      ],
      "metadata": {
        "id": "mOZIenBq09Ce"
      }
    },
    {
      "cell_type": "markdown",
      "source": [
        "Definimos una función de la siguiente manera\n",
        "\n",
        "1. `def` es la palabra clave con la que indicamos que se está definiendo una función.\n",
        "2. Se nombra la función (estos idealmente tienen que informar qué hace la función y ser cortos).\n",
        "3. `()`. Es aqui donde se nombran los parametros en el caso de existir (El paréntesis es requerido, los parametros no!).\n",
        "4. `:`.\n",
        "5. Indentación.\n",
        "6. Dentro de la indentación va el código a ejecutarse.\n",
        "\n"
      ],
      "metadata": {
        "id": "LIVNrmg-2xPL"
      }
    },
    {
      "cell_type": "markdown",
      "source": [
        "\n",
        "\n",
        "```\n",
        "def nombre_de_funcion(argumentos):\n",
        "  declaraciones\n",
        "```\n",
        "\n"
      ],
      "metadata": {
        "id": "nrY00wKi1gxH"
      }
    },
    {
      "cell_type": "code",
      "source": [
        "def saludo():\n",
        "  pass\n"
      ],
      "metadata": {
        "id": "nYYHRHQc6t5Q"
      },
      "execution_count": null,
      "outputs": []
    },
    {
      "cell_type": "code",
      "source": [
        "saludo()"
      ],
      "metadata": {
        "colab": {
          "base_uri": "https://localhost:8080/"
        },
        "id": "t6beqiGRG4vK",
        "outputId": "21a340c4-cefd-477d-90f1-87cd065efce3"
      },
      "execution_count": null,
      "outputs": [
        {
          "output_type": "stream",
          "name": "stdout",
          "text": [
            "Hola!\n"
          ]
        }
      ]
    },
    {
      "cell_type": "code",
      "source": [
        "def elevar_al_cuadrado():\n",
        "  pass"
      ],
      "metadata": {
        "id": "vgbQ9sOTHLV0"
      },
      "execution_count": null,
      "outputs": []
    },
    {
      "cell_type": "code",
      "source": [
        "elevar_al_cuadrado()"
      ],
      "metadata": {
        "colab": {
          "base_uri": "https://localhost:8080/"
        },
        "id": "26EyJaYLHgZk",
        "outputId": "b521fb1b-76ef-4897-ed62-04e8d4647bbb"
      },
      "execution_count": null,
      "outputs": [
        {
          "output_type": "stream",
          "name": "stdout",
          "text": [
            "Dame un numero entero o flotante 8\n",
            "64\n"
          ]
        }
      ]
    },
    {
      "cell_type": "code",
      "source": [
        "def elevar_a_potencia(b):\n",
        "  pass"
      ],
      "metadata": {
        "id": "Xu_yGiCiIwcu"
      },
      "execution_count": null,
      "outputs": []
    },
    {
      "cell_type": "code",
      "source": [
        "elevar_a_potencia(3)"
      ],
      "metadata": {
        "colab": {
          "base_uri": "https://localhost:8080/"
        },
        "id": "q8rhmXZ3JRO5",
        "outputId": "ed8e64ff-0966-41a3-cabe-6de6806bd9e6"
      },
      "execution_count": null,
      "outputs": [
        {
          "output_type": "stream",
          "name": "stdout",
          "text": [
            "Dame un numero entero o flotante 3\n",
            "27\n"
          ]
        }
      ]
    },
    {
      "cell_type": "markdown",
      "source": [
        "## Llamando una funcion"
      ],
      "metadata": {
        "id": "nklSwVD88STY"
      }
    },
    {
      "cell_type": "code",
      "source": [
        "# Los parentesis son necesarios para ejecutar una funcion\n",
        "saludo"
      ],
      "metadata": {
        "colab": {
          "base_uri": "https://localhost:8080/"
        },
        "id": "RalP8HT561rO",
        "outputId": "314935bf-e7dd-49f1-e39d-5ce55e09bfc7"
      },
      "execution_count": null,
      "outputs": [
        {
          "output_type": "execute_result",
          "data": {
            "text/plain": [
              "<function __main__.saludo>"
            ]
          },
          "metadata": {},
          "execution_count": 20
        }
      ]
    },
    {
      "cell_type": "code",
      "source": [
        "saludo()"
      ],
      "metadata": {
        "colab": {
          "base_uri": "https://localhost:8080/"
        },
        "id": "im9SD1vm61i-",
        "outputId": "4f6292ad-e273-4457-cd9e-e15bfb4340a6"
      },
      "execution_count": null,
      "outputs": [
        {
          "output_type": "stream",
          "name": "stdout",
          "text": [
            "Hola!\n"
          ]
        }
      ]
    },
    {
      "cell_type": "code",
      "execution_count": null,
      "metadata": {
        "id": "8X2sDcGgBiGt"
      },
      "outputs": [],
      "source": [
        "# El tener argumentos nos permite usarlos como variables dentro de la funcion,\n",
        "#   pero unicamente dentro de esta\n",
        "def saludo_con_nombre(nombre):\n",
        "    pass"
      ]
    },
    {
      "cell_type": "code",
      "source": [
        "# Al ejecutar una funcion con argumentos, estos se pasan dentro del parentesis\n",
        "saludo_con_nombre(\"Alex\")"
      ],
      "metadata": {
        "colab": {
          "base_uri": "https://localhost:8080/"
        },
        "id": "tqUQpvRX69SA",
        "outputId": "d04da9f4-21f8-4959-a8be-1708f6993084"
      },
      "execution_count": null,
      "outputs": [
        {
          "output_type": "stream",
          "name": "stdout",
          "text": [
            "Hola Alex\n"
          ]
        }
      ]
    },
    {
      "cell_type": "code",
      "source": [
        "# No funciona llamar los argumentos como variables fuera de la funcion\n"
      ],
      "metadata": {
        "id": "m8ZSNpeV7bTW"
      },
      "execution_count": null,
      "outputs": []
    },
    {
      "cell_type": "code",
      "source": [
        "# Notar que se pueden definir variables para cualquier tipo de datos\n",
        "# Listas\n",
        "def print_loop(num_list):\n",
        "    pass\n",
        "\n",
        "# mi_lista=[1,5,6,8]\n",
        "# print_loop(mi_lista)\n",
        "\n",
        "\n",
        "# Booleanos\n",
        "def saludo_condicional(is_morning):\n",
        "    pass\n",
        "\n",
        "# saludo_condicional(False)\n",
        "\n",
        "# Numericos\n",
        "def al_cuadrado(numero):\n",
        "    pass\n",
        "\n",
        "# al_cuadrado(8)"
      ],
      "metadata": {
        "id": "0pQHmpHjDeNF",
        "colab": {
          "base_uri": "https://localhost:8080/"
        },
        "outputId": "cdfcbcf1-3def-409f-d792-b0e3c18615de"
      },
      "execution_count": null,
      "outputs": [
        {
          "output_type": "stream",
          "name": "stdout",
          "text": [
            "64\n"
          ]
        }
      ]
    },
    {
      "cell_type": "markdown",
      "source": [
        "## Challenge"
      ],
      "metadata": {
        "id": "VeFEMp23Ohox"
      }
    },
    {
      "cell_type": "markdown",
      "source": [
        "Crea la funcion `es_primo` que acepte como argumento un numero entero positivo y te regrese `True` si este es primo, `False` en el caso de que no.  \n",
        "  \n",
        "¿Cómo puedes cerciorarte de que el usuario le pase a la función un numero entero positivo?"
      ],
      "metadata": {
        "id": "_JvTRWTpOgD2"
      }
    },
    {
      "cell_type": "code",
      "source": [],
      "metadata": {
        "id": "ljZFdcQbPzd6"
      },
      "execution_count": null,
      "outputs": []
    },
    {
      "cell_type": "code",
      "source": [],
      "metadata": {
        "id": "YgOo6ElkPzHk"
      },
      "execution_count": null,
      "outputs": []
    },
    {
      "cell_type": "code",
      "source": [],
      "metadata": {
        "id": "RKe9KgjEPzDr"
      },
      "execution_count": null,
      "outputs": []
    },
    {
      "cell_type": "markdown",
      "source": [
        "## Multiples argumentos"
      ],
      "metadata": {
        "id": "1jttHHFg8XEy"
      }
    },
    {
      "cell_type": "code",
      "source": [
        "# Es posible definir funciones con multiples parametros\n",
        "def saludo_formal(    ):\n",
        "  pass"
      ],
      "metadata": {
        "id": "Rgry0WQi8N4Z"
      },
      "execution_count": null,
      "outputs": []
    },
    {
      "cell_type": "code",
      "source": [
        "# Los argumentos se pasan en el mismo orden que se definieron los parametdos\n"
      ],
      "metadata": {
        "colab": {
          "base_uri": "https://localhost:8080/"
        },
        "id": "t5dE9RIb88-r",
        "outputId": "a86c920b-1b26-4052-e98f-fc9831966f21"
      },
      "execution_count": null,
      "outputs": [
        {
          "output_type": "stream",
          "name": "stdout",
          "text": [
            "Hola Alejandro Pimentel\n"
          ]
        }
      ]
    },
    {
      "cell_type": "code",
      "source": [
        "# Por default, una funcion tiene que ser llamada con el numero exacto de \n",
        "#   argumentos\n"
      ],
      "metadata": {
        "id": "uhRnxsDn9ZZZ",
        "colab": {
          "base_uri": "https://localhost:8080/",
          "height": 202
        },
        "outputId": "4db8bec2-2dec-45ba-8531-8caeb9e0cc57"
      },
      "execution_count": null,
      "outputs": [
        {
          "output_type": "error",
          "ename": "TypeError",
          "evalue": "ignored",
          "traceback": [
            "\u001b[0;31m---------------------------------------------------------------------------\u001b[0m",
            "\u001b[0;31mTypeError\u001b[0m                                 Traceback (most recent call last)",
            "\u001b[0;32m<ipython-input-41-473688dc5dd5>\u001b[0m in \u001b[0;36m<module>\u001b[0;34m()\u001b[0m\n\u001b[1;32m      2\u001b[0m \u001b[0;31m#   argumentos\u001b[0m\u001b[0;34m\u001b[0m\u001b[0;34m\u001b[0m\u001b[0;34m\u001b[0m\u001b[0m\n\u001b[1;32m      3\u001b[0m \u001b[0;31m# saludo_formal(\"Alejandro\")\u001b[0m\u001b[0;34m\u001b[0m\u001b[0;34m\u001b[0m\u001b[0;34m\u001b[0m\u001b[0m\n\u001b[0;32m----> 4\u001b[0;31m \u001b[0msaludo_formal\u001b[0m\u001b[0;34m(\u001b[0m\u001b[0;34m\"Alejandro\"\u001b[0m\u001b[0;34m,\u001b[0m \u001b[0;34m\"Garcia\"\u001b[0m\u001b[0;34m,\u001b[0m \u001b[0;34m\"Pimentel\"\u001b[0m\u001b[0;34m)\u001b[0m\u001b[0;34m\u001b[0m\u001b[0;34m\u001b[0m\u001b[0m\n\u001b[0m",
            "\u001b[0;31mTypeError\u001b[0m: saludo_formal() takes 2 positional arguments but 3 were given"
          ]
        }
      ]
    },
    {
      "cell_type": "markdown",
      "source": [
        "## Valores de default y palabras claves para nuestras funciones"
      ],
      "metadata": {
        "id": "FH9MmwjN_QWZ"
      }
    },
    {
      "cell_type": "code",
      "source": [
        "# Una solucion es poner valores de default con la sintaxis `llave = valor`\n",
        "# Esto nos permitira que el orden de los argumentos no importe\n",
        "# Y que en caso de no llamarse con algun argumento, exista un valor de default\n",
        "def saludo_formal_2(   ):\n",
        "  pass"
      ],
      "metadata": {
        "id": "kwCXhVDa_KBX"
      },
      "execution_count": null,
      "outputs": []
    },
    {
      "cell_type": "code",
      "source": [
        "# 0 argumentos\n",
        "saludo_formal_2()\n",
        "# 1 argumento\n",
        "saludo_formal_2(\"Alejandro\")\n",
        "# 2 argumentos\n",
        "saludo_formal_2(\"Alejandro\", \"Pimentel\")\n",
        "# 3 argumentos\n",
        "saludo_formal_2(\"Alejandro\", \"Garcia\", \"Pimentel\")\n",
        "# EL orden no importa si se usan palabras clave\n",
        "saludo_formal_2(nombre=\"Alejandro\", apellido_m=\"Pimentel\", apellido_p=\"Garcia\")"
      ],
      "metadata": {
        "colab": {
          "base_uri": "https://localhost:8080/"
        },
        "id": "RdAEgye-BEnS",
        "outputId": "d05bcc3b-4524-481d-ef36-60f88066da6c"
      },
      "execution_count": null,
      "outputs": [
        {
          "output_type": "stream",
          "name": "stdout",
          "text": [
            "Hola   \n",
            "Hola Alejandro  \n",
            "Hola Alejandro Pimentel \n",
            "Hola Alejandro Garcia Pimentel\n",
            "Hola Alejandro Garcia Pimentel\n"
          ]
        }
      ]
    },
    {
      "cell_type": "markdown",
      "source": [
        "Si nosostros conocemos que un parametro de nuestra funcion dificilmente va a cambiar podemos dejar un parametro por default"
      ],
      "metadata": {
        "id": "Fix0i8Vza-oO"
      }
    },
    {
      "cell_type": "code",
      "source": [
        "# Aqui definiremos la funcion de calcular el area de un circulo\n",
        "def area_circulo(radio_cir, pi=3.1416):\n",
        "    pass"
      ],
      "metadata": {
        "id": "voM1f_S7bFMy"
      },
      "execution_count": null,
      "outputs": []
    },
    {
      "cell_type": "code",
      "source": [
        "area_circulo(4)"
      ],
      "metadata": {
        "id": "X6a2dGuDb0Tm",
        "colab": {
          "base_uri": "https://localhost:8080/"
        },
        "outputId": "08f44b33-82bf-4c00-d864-f8812d91d43f"
      },
      "execution_count": null,
      "outputs": [
        {
          "output_type": "stream",
          "name": "stdout",
          "text": [
            "El area de mi circulo es 50.2656\n"
          ]
        }
      ]
    },
    {
      "cell_type": "markdown",
      "source": [
        "Si en algun momento decidieramos cambiar el argumento de pi, es posible indicandolo al llamar la funcion"
      ],
      "metadata": {
        "id": "fqKuiXSxb-79"
      }
    },
    {
      "cell_type": "code",
      "source": [
        "area_circulo(4,4)"
      ],
      "metadata": {
        "id": "DJ0tgtItcGFY",
        "colab": {
          "base_uri": "https://localhost:8080/"
        },
        "outputId": "99b3fd21-10d0-45d5-ff94-c02d59b83086"
      },
      "execution_count": null,
      "outputs": [
        {
          "output_type": "stream",
          "name": "stdout",
          "text": [
            "El area de mi circulo es 64\n"
          ]
        }
      ]
    },
    {
      "cell_type": "markdown",
      "source": [
        "## Regresar valores con `return`"
      ],
      "metadata": {
        "id": "vM4a_pbXEztQ"
      }
    },
    {
      "cell_type": "markdown",
      "source": [
        "Hasta ahora hemos visto funciones que terminan con la funcion `print` pero mucho del poder de las funciones esta en que podemos guardar los resultados en variables o pasarselos a otras funciones o metodos. Para eso existe la palabra clave `return`"
      ],
      "metadata": {
        "id": "LIS2RLkYE8Dx"
      }
    },
    {
      "cell_type": "code",
      "source": [
        "# Retomemos esta funcion que usamos para ejemplificar el uso de variables \n",
        "#   numericas\n",
        "def al_cuadrado(numero):\n",
        "  print(numero ** 2)\n",
        "\n",
        "al_cuadrado(4)"
      ],
      "metadata": {
        "colab": {
          "base_uri": "https://localhost:8080/"
        },
        "id": "P7-67afBFQA1",
        "outputId": "2faaece6-20c8-49c4-d5c9-c66e046157b4"
      },
      "execution_count": null,
      "outputs": [
        {
          "output_type": "stream",
          "name": "stdout",
          "text": [
            "16\n"
          ]
        }
      ]
    },
    {
      "cell_type": "code",
      "source": [
        "# Falla cuando queremos hacer uso de el resultado de la funcion\n"
      ],
      "metadata": {
        "id": "OXcqTQmzFgdY",
        "colab": {
          "base_uri": "https://localhost:8080/"
        },
        "outputId": "ba7bd182-1e87-4ccd-bbed-56097bd1d9ab"
      },
      "execution_count": null,
      "outputs": [
        {
          "output_type": "stream",
          "name": "stdout",
          "text": [
            "16\n"
          ]
        }
      ]
    },
    {
      "cell_type": "code",
      "source": [
        "# Podemos solucionr esto haciendo uso de return\n",
        "def al_cuadrado_2(numero):\n",
        "  pass"
      ],
      "metadata": {
        "id": "--Ip5697FmYd"
      },
      "execution_count": null,
      "outputs": []
    },
    {
      "cell_type": "code",
      "source": [
        "# Ahora tenemos el resultado esperado\n"
      ],
      "metadata": {
        "id": "pvypie78TX79"
      },
      "execution_count": null,
      "outputs": []
    },
    {
      "cell_type": "code",
      "source": [],
      "metadata": {
        "colab": {
          "base_uri": "https://localhost:8080/"
        },
        "id": "Jh2yH6YzF7hM",
        "outputId": "8435c4c5-ac35-4d0a-b48a-1dcce73c9c55"
      },
      "execution_count": null,
      "outputs": [
        {
          "output_type": "stream",
          "name": "stdout",
          "text": [
            "16\n",
            "20\n"
          ]
        }
      ]
    }
  ]
}