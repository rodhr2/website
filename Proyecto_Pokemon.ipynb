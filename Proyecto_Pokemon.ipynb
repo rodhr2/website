{
  "nbformat": 4,
  "nbformat_minor": 0,
  "metadata": {
    "colab": {
      "provenance": [],
      "authorship_tag": "ABX9TyNYSJxfsJt0L+cDoa6WNCqe",
      "include_colab_link": true
    },
    "kernelspec": {
      "name": "python3",
      "display_name": "Python 3"
    },
    "language_info": {
      "name": "python"
    }
  },
  "cells": [
    {
      "cell_type": "markdown",
      "metadata": {
        "id": "view-in-github",
        "colab_type": "text"
      },
      "source": [
        "<a href=\"https://colab.research.google.com/github/rodhr2/website/blob/main/Proyecto_Pokemon.ipynb\" target=\"_parent\"><img src=\"https://colab.research.google.com/assets/colab-badge.svg\" alt=\"Open In Colab\"/></a>"
      ]
    },
    {
      "cell_type": "markdown",
      "source": [
        "Proyecto Python, juego de Pokemon"
      ],
      "metadata": {
        "id": "Jw8ZVB3sVZEO"
      }
    },
    {
      "cell_type": "code",
      "source": [
        "import random"
      ],
      "metadata": {
        "id": "y1F6YFDDeY9k"
      },
      "execution_count": 13,
      "outputs": []
    },
    {
      "cell_type": "code",
      "source": [
        "Mega_Kangaskhan = Pokemon(\n",
        "    especie = \"Mega-Kangaskhan\",\n",
        "    tipo = \"tierra\",\n",
        "    ataque = 125,\n",
        "    defensa = 100,\n",
        "    vida = 70,\n",
        "    velocidad = 100,\n",
        "    fortalezas = [\"agua\"],\n",
        "    debilidades = [\"fuego\"],\n",
        "    ataques = [\n",
        "        {'ataque':'tackle' ,'tipo':'normal', 'dano': 10},\n",
        "        {'ataque':'pistola de agua' ,'tipo':'agua', 'dano': 15}\n",
        "    ]\n",
        ")\n",
        "Mega_Alakazam = Pokemon(\n",
        "    especie = \"Mega-Alakazam\",\n",
        "    tipo = \"fuego\",\n",
        "    ataque = 50,\n",
        "    defensa = 105,\n",
        "    vida = 60,\n",
        "    velocidad = 150,\n",
        "    fortalezas = [\"mental\"],\n",
        "    debilidades = [\"agua\"],\n",
        "    ataques = [\n",
        "        {'ataque':'tackle' ,'tipo':'normal', 'dano': 10},\n",
        "        {'ataque':'psiquico' ,'tipo':'psiquico', 'dano': 15}\n",
        "    ]\n",
        ")"
      ],
      "metadata": {
        "id": "0E6N0R4MVwlx"
      },
      "execution_count": 15,
      "outputs": []
    },
    {
      "cell_type": "code",
      "execution_count": 14,
      "metadata": {
        "id": "YN8Z8aP-VT7J"
      },
      "outputs": [],
      "source": [
        "  class Pokemon:\n",
        "  # Queremos saber la especie, las estadisticas y el tipo del pokemon\n",
        "    def __init__(self, especie, tipo, ataque, defensa, vida, velocidad, fortalezas, debilidades, ataques):\n",
        "        self.especie = especie\n",
        "        self.tipo = tipo\n",
        "        self.ataque = ataque\n",
        "        self.defensa = defensa\n",
        "        self.vida = vida\n",
        "        self.vida_orig = vida\n",
        "        self.velocidad = velocidad\n",
        "        self.fortalezas = fortalezas\n",
        "        self.debilidades = debilidades\n",
        "        self.ataques = ataques\n",
        "\n",
        "    def centro_pokemon(self):\n",
        "        self.vida = self.vida_orig\n",
        "\n",
        "    def print_ataques_turno(self):\n",
        "        for ataque in self.ataques:\n",
        "            index_print = (self.ataques.index(ataque))+1\n",
        "            print(f\"[{str(index_print)}] El ataque {ataque['ataque']} daño de {ataque['dano']}\")\n",
        "\n",
        "    def pelea(self, rival,ataque_index):\n",
        "\n",
        "        mi_turno = self.velocidad >= rival.velocidad\n",
        "        conteo_inicial = 0\n",
        "        while (self.vida > 0) & (rival.vida > 0):\n",
        "            # Turno defendiendo o atacando DONE\n",
        "            if mi_turno:\n",
        "              if conteo_inicial > 0:\n",
        "                print(\"\\n\")\n",
        "                self.print_ataques_turno()\n",
        "                ataque_index = (int(input(\"Elige tu siguiente ataque \")) - 1)\n",
        "                mi_dano = 10*(self.ataques[ataque_index]['dano'] / rival.defensa)\n",
        "              else:\n",
        "                # calcular daño\n",
        "                mi_dano = 10*(self.ataques[ataque_index]['dano'] / rival.defensa)\n",
        "\n",
        "              # fortalezas y debilidades => multlipicador de daños\n",
        "              if self.ataques[ataque_index]['tipo'] in rival.debilidades:\n",
        "                  mi_mult = 2\n",
        "              elif self.ataques[ataque_index]['tipo'] in rival.fortalezas:\n",
        "                  mi_mult = .5\n",
        "              else:\n",
        "                  mi_mult = 1\n",
        "              rival.vida = rival.vida - int(mi_dano * mi_mult)\n",
        "\n",
        "              print(\"\\n\")\n",
        "              print(f\"{self.especie} ha usado {self.ataques[ataque_index]['ataque']} -> {self.ataques[ataque_index]['dano']}\")\n",
        "              print(f\"{self.especie} ha hecho {int(mi_dano * mi_mult)} puntos de daño\")\n",
        "              print(f\"A {rival.especie} le quedan {rival.vida} puntos de vida\")\n",
        "\n",
        "              conteo_inicial = conteo_inicial + 1\n",
        "\n",
        "              mi_turno = not mi_turno\n",
        "            else:\n",
        "                ataque_rival = random.choice(rival.ataques)\n",
        "                # calcular daño\n",
        "                rival_dano = 10*(ataque_rival['dano'] / self.defensa)\n",
        "                # fortalezas y debilidades => multlipicador de daños\n",
        "                if ataque_rival['tipo'] in self.debilidades:\n",
        "                    rival_mult = 2\n",
        "                elif ataque_rival['tipo'] in self.fortalezas:\n",
        "                    rival_mult = .5\n",
        "                else:\n",
        "                    rival_mult = 1\n",
        "                self.vida = self.vida - int(rival_dano * rival_mult)\n",
        "                \n",
        "                print(\"\\n\")\n",
        "                print(f\"{rival.especie} ha usado {ataque_rival['ataque']} -> {ataque_rival['dano']}\")\n",
        "                print(f\"{rival.especie} ha hecho {int(rival_dano * rival_mult)} puntos de daño\")\n",
        "                print(f\"A {self.especie} le quedan {self.vida} puntos de vida\")\n",
        "                mi_turno = not mi_turno\n",
        "        \n",
        "        # if vida == 0 => dime quien gano\n",
        "        if rival.vida <= 0:\n",
        "            print(f\"Felicidades {self.especie.title()} ha ganado el combate\")\n",
        "        else:\n",
        "            print(f\"Oh no {rival.especie.title()} ha ganado el combate\")\n",
        "            \n",
        "    \n",
        "    "
      ]
    },
    {
      "cell_type": "code",
      "source": [
        "Mega_Kangaskhan.print_ataques_turno()\n",
        "\n"
      ],
      "metadata": {
        "colab": {
          "base_uri": "https://localhost:8080/"
        },
        "id": "rYCklw-KcC8w",
        "outputId": "365573d5-eddc-40ca-f1b3-7b3229783ebf"
      },
      "execution_count": 16,
      "outputs": [
        {
          "output_type": "stream",
          "name": "stdout",
          "text": [
            "[1] El ataque tackle daño de 10\n",
            "[2] El ataque pistola de agua daño de 15\n"
          ]
        }
      ]
    },
    {
      "cell_type": "code",
      "source": [
        "index_ataque = (int(input(\"Elige tu primer ataque \\n\")) - 1)"
      ],
      "metadata": {
        "colab": {
          "base_uri": "https://localhost:8080/"
        },
        "id": "veKObdBVcPuu",
        "outputId": "f8000521-1c06-4de3-c5aa-dfff5aef2159"
      },
      "execution_count": 18,
      "outputs": [
        {
          "name": "stdout",
          "output_type": "stream",
          "text": [
            "Elige tu primer ataque \n",
            "1\n"
          ]
        }
      ]
    },
    {
      "cell_type": "code",
      "source": [
        "Mega_Kangaskhan.pelea(Mega_Alakazam,index_ataque)"
      ],
      "metadata": {
        "colab": {
          "base_uri": "https://localhost:8080/",
          "height": 894
        },
        "id": "hiZDtYWlcRFv",
        "outputId": "1554d21a-64da-4e31-f7d5-d25d85df8f82"
      },
      "execution_count": 19,
      "outputs": [
        {
          "name": "stdout",
          "output_type": "stream",
          "text": [
            "\n",
            "\n",
            "Mega-Alakazam ha usado psiquico -> 15\n",
            "Mega-Alakazam ha hecho 1 puntos de daño\n",
            "A Mega-Kangaskhan le quedan 68 puntos de vida\n",
            "\n",
            "\n",
            "Mega-Kangaskhan ha usado tackle -> 10\n",
            "Mega-Kangaskhan ha hecho 0 puntos de daño\n",
            "A Mega-Alakazam le quedan 60 puntos de vida\n",
            "\n",
            "\n",
            "Mega-Alakazam ha usado psiquico -> 15\n",
            "Mega-Alakazam ha hecho 1 puntos de daño\n",
            "A Mega-Kangaskhan le quedan 67 puntos de vida\n",
            "\n",
            "\n",
            "[1] El ataque tackle daño de 10\n",
            "[2] El ataque pistola de agua daño de 15\n",
            "Elige tu siguiente ataque 2\n",
            "\n",
            "\n",
            "Mega-Kangaskhan ha usado pistola de agua -> 15\n",
            "Mega-Kangaskhan ha hecho 2 puntos de daño\n",
            "A Mega-Alakazam le quedan 58 puntos de vida\n",
            "\n",
            "\n",
            "Mega-Alakazam ha usado tackle -> 10\n",
            "Mega-Alakazam ha hecho 1 puntos de daño\n",
            "A Mega-Kangaskhan le quedan 66 puntos de vida\n",
            "\n",
            "\n",
            "[1] El ataque tackle daño de 10\n",
            "[2] El ataque pistola de agua daño de 15\n",
            "Elige tu siguiente ataque 3\n"
          ]
        },
        {
          "output_type": "error",
          "ename": "IndexError",
          "evalue": "ignored",
          "traceback": [
            "\u001b[0;31m---------------------------------------------------------------------------\u001b[0m",
            "\u001b[0;31mIndexError\u001b[0m                                Traceback (most recent call last)",
            "\u001b[0;32m<ipython-input-19-51bec4f0b084>\u001b[0m in \u001b[0;36m<cell line: 1>\u001b[0;34m()\u001b[0m\n\u001b[0;32m----> 1\u001b[0;31m \u001b[0mMega_Kangaskhan\u001b[0m\u001b[0;34m.\u001b[0m\u001b[0mpelea\u001b[0m\u001b[0;34m(\u001b[0m\u001b[0mMega_Alakazam\u001b[0m\u001b[0;34m,\u001b[0m\u001b[0mindex_ataque\u001b[0m\u001b[0;34m)\u001b[0m\u001b[0;34m\u001b[0m\u001b[0;34m\u001b[0m\u001b[0m\n\u001b[0m",
            "\u001b[0;32m<ipython-input-14-225e68b9ee70>\u001b[0m in \u001b[0;36mpelea\u001b[0;34m(self, rival, ataque_index)\u001b[0m\n\u001b[1;32m     32\u001b[0m               \u001b[0mself\u001b[0m\u001b[0;34m.\u001b[0m\u001b[0mprint_ataques_turno\u001b[0m\u001b[0;34m(\u001b[0m\u001b[0;34m)\u001b[0m\u001b[0;34m\u001b[0m\u001b[0;34m\u001b[0m\u001b[0m\n\u001b[1;32m     33\u001b[0m               \u001b[0mataque_index\u001b[0m \u001b[0;34m=\u001b[0m \u001b[0;34m(\u001b[0m\u001b[0mint\u001b[0m\u001b[0;34m(\u001b[0m\u001b[0minput\u001b[0m\u001b[0;34m(\u001b[0m\u001b[0;34m\"Elige tu siguiente ataque \"\u001b[0m\u001b[0;34m)\u001b[0m\u001b[0;34m)\u001b[0m \u001b[0;34m-\u001b[0m \u001b[0;36m1\u001b[0m\u001b[0;34m)\u001b[0m\u001b[0;34m\u001b[0m\u001b[0;34m\u001b[0m\u001b[0m\n\u001b[0;32m---> 34\u001b[0;31m               \u001b[0mmi_dano\u001b[0m \u001b[0;34m=\u001b[0m \u001b[0;36m10\u001b[0m\u001b[0;34m*\u001b[0m\u001b[0;34m(\u001b[0m\u001b[0mself\u001b[0m\u001b[0;34m.\u001b[0m\u001b[0mataques\u001b[0m\u001b[0;34m[\u001b[0m\u001b[0mataque_index\u001b[0m\u001b[0;34m]\u001b[0m\u001b[0;34m[\u001b[0m\u001b[0;34m'dano'\u001b[0m\u001b[0;34m]\u001b[0m \u001b[0;34m/\u001b[0m \u001b[0mrival\u001b[0m\u001b[0;34m.\u001b[0m\u001b[0mdefensa\u001b[0m\u001b[0;34m)\u001b[0m\u001b[0;34m\u001b[0m\u001b[0;34m\u001b[0m\u001b[0m\n\u001b[0m\u001b[1;32m     35\u001b[0m             \u001b[0;32melse\u001b[0m\u001b[0;34m:\u001b[0m\u001b[0;34m\u001b[0m\u001b[0;34m\u001b[0m\u001b[0m\n\u001b[1;32m     36\u001b[0m               \u001b[0;31m# calcular daño\u001b[0m\u001b[0;34m\u001b[0m\u001b[0;34m\u001b[0m\u001b[0m\n",
            "\u001b[0;31mIndexError\u001b[0m: list index out of range"
          ]
        }
      ]
    },
    {
      "cell_type": "markdown",
      "source": [],
      "metadata": {
        "id": "c3imcxBMVW7L"
      }
    }
  ]
}