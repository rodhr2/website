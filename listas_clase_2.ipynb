{
  "nbformat": 4,
  "nbformat_minor": 0,
  "metadata": {
    "colab": {
      "provenance": [],
      "collapsed_sections": [
        "rlJFMGAxGB6b",
        "XS4e7AFyGHBG",
        "2Xk6btZ2oyJL"
      ],
      "include_colab_link": true
    },
    "kernelspec": {
      "name": "python3",
      "display_name": "Python 3"
    },
    "language_info": {
      "name": "python"
    }
  },
  "cells": [
    {
      "cell_type": "markdown",
      "metadata": {
        "id": "view-in-github",
        "colab_type": "text"
      },
      "source": [
        "<a href=\"https://colab.research.google.com/github/rodhr2/website/blob/main/listas_clase_2.ipynb\" target=\"_parent\"><img src=\"https://colab.research.google.com/assets/colab-badge.svg\" alt=\"Open In Colab\"/></a>"
      ]
    },
    {
      "cell_type": "markdown",
      "source": [
        "# Listas"
      ],
      "metadata": {
        "id": "ynck7SEoms7o"
      }
    },
    {
      "cell_type": "markdown",
      "source": [
        "## Crear una lista"
      ],
      "metadata": {
        "id": "32MzwgMroWY3"
      }
    },
    {
      "cell_type": "code",
      "source": [
        "# Para crear una lista se ponen los elementos entre corchetes `[]` separados por \n",
        "#   comas\n",
        "mi_lista = [\"a\", \"b\", \"c\"]\n",
        "print(mi_lista)"
      ],
      "metadata": {
        "colab": {
          "base_uri": "https://localhost:8080/"
        },
        "id": "s0hYYgvPpTls",
        "outputId": "04eeb380-4484-4382-ae0d-944982659460"
      },
      "execution_count": null,
      "outputs": [
        {
          "output_type": "stream",
          "name": "stdout",
          "text": [
            "['a', 'b', 'c']\n"
          ]
        }
      ]
    },
    {
      "cell_type": "code",
      "source": [
        "# En el caso de las listas los elementos SI pueden tener elementos duplicados\n",
        "mi_lista_2 = ['a', 'a', 'a']\n",
        "print(mi_lista_2)"
      ],
      "metadata": {
        "colab": {
          "base_uri": "https://localhost:8080/"
        },
        "id": "LbeU6k7Mp_hR",
        "outputId": "fc4f88f0-2650-4b83-ad54-d9eaa3afc1db"
      },
      "execution_count": null,
      "outputs": [
        {
          "output_type": "stream",
          "name": "stdout",
          "text": [
            "['a', 'a', 'a']\n"
          ]
        }
      ]
    },
    {
      "cell_type": "code",
      "source": [
        "# Las listas pueden contener cualquier tipo de datos\n",
        "lista_numerica = [0, 1, 2]\n",
        "lista_caracteres = ['d', 'e', 'f']\n",
        "lista_booleana = [True, False, True]\n",
        "print('lista numerica:', lista_numerica)\n",
        "print('lista de textos:', lista_caracteres)\n",
        "print('lista de valores booleanos:', lista_booleana)"
      ],
      "metadata": {
        "colab": {
          "base_uri": "https://localhost:8080/"
        },
        "id": "aRFVDx-tqZug",
        "outputId": "a15dab10-c7db-4b29-f7c0-8f62eafcfaae"
      },
      "execution_count": null,
      "outputs": [
        {
          "output_type": "stream",
          "name": "stdout",
          "text": [
            "lista numerica: [0, 1, 2]\n",
            "lista de textos: ['d', 'e', 'f']\n",
            "lista de valores booleanos: [True, False, True]\n"
          ]
        }
      ]
    },
    {
      "cell_type": "code",
      "source": [
        "# Esto tambien significa que se pueden hacer listas de listas\n",
        "lista_de_listas = [lista_numerica, lista_caracteres, lista_booleana]\n",
        "print('lista de listas: ', lista_de_listas)"
      ],
      "metadata": {
        "colab": {
          "base_uri": "https://localhost:8080/"
        },
        "id": "AvaxxEsnrL3l",
        "outputId": "827133cf-c85a-428d-aa7b-b609bbe9f804"
      },
      "execution_count": null,
      "outputs": [
        {
          "output_type": "stream",
          "name": "stdout",
          "text": [
            "lista de listas:  [[0, 1, 2], ['d', 'e', 'f'], [True, False, True]]\n"
          ]
        }
      ]
    },
    {
      "cell_type": "code",
      "source": [
        "# Y las listas pueden tener elementos de distintos tipos\n",
        "lista_variada = ['a', 1, True]\n",
        "print(lista_variada)"
      ],
      "metadata": {
        "colab": {
          "base_uri": "https://localhost:8080/"
        },
        "id": "8NE608xQrjGo",
        "outputId": "356358e5-9954-4372-9c67-de59856869c2"
      },
      "execution_count": null,
      "outputs": [
        {
          "output_type": "stream",
          "name": "stdout",
          "text": [
            "['a', 1, True]\n"
          ]
        }
      ]
    },
    {
      "cell_type": "markdown",
      "source": [
        "## Acceder a elementos de una lista"
      ],
      "metadata": {
        "id": "3s3MUAZUoMvL"
      }
    },
    {
      "cell_type": "code",
      "source": [
        "mi_lista = ['a', 'b', 'c', 'd', 'e', 'f', 'g']\n",
        "print(mi_lista)"
      ],
      "metadata": {
        "colab": {
          "base_uri": "https://localhost:8080/"
        },
        "id": "lgh1lKM4ViNe",
        "outputId": "e8310752-f2d5-4820-ad57-919fd5201ee3"
      },
      "execution_count": null,
      "outputs": [
        {
          "output_type": "stream",
          "name": "stdout",
          "text": [
            "['a', 'b', 'c', 'd', 'e', 'f', 'g']\n"
          ]
        }
      ]
    },
    {
      "cell_type": "code",
      "source": [
        "mi_lista[0]"
      ],
      "metadata": {
        "colab": {
          "base_uri": "https://localhost:8080/",
          "height": 35
        },
        "id": "U7kdp4TJuFSn",
        "outputId": "78be6c06-d76c-45d4-bc09-0b84358b8621"
      },
      "execution_count": null,
      "outputs": [
        {
          "output_type": "execute_result",
          "data": {
            "text/plain": [
              "'a'"
            ],
            "application/vnd.google.colaboratory.intrinsic+json": {
              "type": "string"
            }
          },
          "metadata": {},
          "execution_count": 14
        }
      ]
    },
    {
      "cell_type": "code",
      "source": [
        "# Los elementos de una lista se encuentran ordenados. Para acceder a ellos uno\n",
        "#   hace uso de los corchetes `[]` y el numero de indice correspondiente.\n",
        "# Recordar que en Python, contamos a partir del 0, por lo que el primer elemento\n",
        "#   es el 0  \n",
        "print('Primer elemento, indice 0: ', mi_lista[0])\n",
        "print('Segundo elemento, indice 1: ', mi_lista[1])\n",
        "print('Tercer elemento, indice 2: ', mi_lista[2])"
      ],
      "metadata": {
        "colab": {
          "base_uri": "https://localhost:8080/"
        },
        "id": "j8ocLicq86kC",
        "outputId": "1c2729e5-f50e-4f0f-8400-88deb76d8d46"
      },
      "execution_count": null,
      "outputs": [
        {
          "output_type": "stream",
          "name": "stdout",
          "text": [
            "Primer elemento, indice 0:  a\n",
            "Segundo elemento, indice 1:  b\n",
            "Tercer elemento, indice 2:  c\n"
          ]
        }
      ]
    },
    {
      "cell_type": "code",
      "source": [
        "# Tambien se puede acceder a los elementos usando indices negativos.\n",
        "# Para esto contamos a partir del -1 que seria el ultimo elemento\n",
        "\n",
        "print('Ultimo elemento, indice -1: ', mi_lista[-1])\n",
        "print('Penultimo elemento, indice -2: ', mi_lista[-2])\n",
        "print('Ante-penultimo elemento, indice -3: ', mi_lista[-3])"
      ],
      "metadata": {
        "colab": {
          "base_uri": "https://localhost:8080/"
        },
        "id": "NQohPnjRSoeI",
        "outputId": "44b42a16-ff74-44c8-b2a6-55a72eed6a61"
      },
      "execution_count": null,
      "outputs": [
        {
          "output_type": "stream",
          "name": "stdout",
          "text": [
            "Ultimo elemento, indice -1:  g\n",
            "Penultimo elemento, indice -2:  f\n",
            "Ante-penultimo elemento, indice -3:  e\n"
          ]
        }
      ]
    },
    {
      "cell_type": "code",
      "source": [
        "# Podemos elegir un rango de elementos especificando donde empieza y donde\n",
        "#   termina el rango deseado.\n",
        "print('Desde el indice uno (incluyendolo) hasta el indice cuatro (sin incluirlo)', \n",
        "    mi_lista[1:4])"
      ],
      "metadata": {
        "colab": {
          "base_uri": "https://localhost:8080/"
        },
        "id": "5LwFmjk4TkAg",
        "outputId": "90e7fe38-7e8d-4b9b-9280-f3cf4d58ac00"
      },
      "execution_count": null,
      "outputs": [
        {
          "output_type": "stream",
          "name": "stdout",
          "text": [
            "Desde el indice uno (incluyendolo) hasta el indice cuatro (sin incluirlo) ['b', 'c', 'd']\n"
          ]
        }
      ]
    },
    {
      "cell_type": "code",
      "source": [
        "mi_lista[1]"
      ],
      "metadata": {
        "colab": {
          "base_uri": "https://localhost:8080/",
          "height": 35
        },
        "id": "1zFTD4WVvSIP",
        "outputId": "ac4f2982-2331-4e13-f55f-70aaac9b5f27"
      },
      "execution_count": null,
      "outputs": [
        {
          "output_type": "execute_result",
          "data": {
            "text/plain": [
              "'b'"
            ],
            "application/vnd.google.colaboratory.intrinsic+json": {
              "type": "string"
            }
          },
          "metadata": {},
          "execution_count": 18
        }
      ]
    },
    {
      "cell_type": "code",
      "source": [
        "mi_lista[4]"
      ],
      "metadata": {
        "colab": {
          "base_uri": "https://localhost:8080/",
          "height": 35
        },
        "id": "ve3ovqnvvSE_",
        "outputId": "475f1908-6db3-43e7-e930-fe233209cf9b"
      },
      "execution_count": null,
      "outputs": [
        {
          "output_type": "execute_result",
          "data": {
            "text/plain": [
              "'e'"
            ],
            "application/vnd.google.colaboratory.intrinsic+json": {
              "type": "string"
            }
          },
          "metadata": {},
          "execution_count": 19
        }
      ]
    },
    {
      "cell_type": "code",
      "source": [
        "# Si queremos tomar desde cierto indice hasta el final, podemos indicarlo de la\n",
        "#   siguiente manera\n",
        "print('Desde el indice dos hasta el fin de la lista', \n",
        "    mi_lista[2:])"
      ],
      "metadata": {
        "colab": {
          "base_uri": "https://localhost:8080/"
        },
        "id": "l23b4n3MUdeU",
        "outputId": "d7d54c7a-72e0-404b-803f-dddaff040a7e"
      },
      "execution_count": null,
      "outputs": [
        {
          "output_type": "stream",
          "name": "stdout",
          "text": [
            "Desde el indice dos hasta el fin de la lista ['c', 'd', 'e', 'f', 'g']\n"
          ]
        }
      ]
    },
    {
      "cell_type": "code",
      "source": [
        "# De forma similar, puedes tomar desde el primer elemento, hasta cierto indice\n",
        "print('Desde el inicio de la lista, hasta el indice cinco (sin incluirlo)', \n",
        "    mi_lista[:5])"
      ],
      "metadata": {
        "colab": {
          "base_uri": "https://localhost:8080/"
        },
        "id": "Ws6kqVZbU2Zm",
        "outputId": "c9c2b821-5c7d-4408-8171-76f452224531"
      },
      "execution_count": null,
      "outputs": [
        {
          "output_type": "stream",
          "name": "stdout",
          "text": [
            "Desde el inicio de la lista, hasta el indice cinco (sin incluirlo) ['a', 'b', 'c', 'd', 'e']\n"
          ]
        }
      ]
    },
    {
      "cell_type": "code",
      "source": [
        "mi_lista[:]"
      ],
      "metadata": {
        "colab": {
          "base_uri": "https://localhost:8080/"
        },
        "id": "TWN-z9YRv7wQ",
        "outputId": "ce30d8f7-74dc-4689-8695-908ff4d816d6"
      },
      "execution_count": null,
      "outputs": [
        {
          "output_type": "execute_result",
          "data": {
            "text/plain": [
              "['a', 'b', 'c', 'd', 'e', 'f', 'g']"
            ]
          },
          "metadata": {},
          "execution_count": 24
        }
      ]
    },
    {
      "cell_type": "code",
      "source": [
        "mi_lista[0:6:2]"
      ],
      "metadata": {
        "colab": {
          "base_uri": "https://localhost:8080/"
        },
        "id": "FJElciJQv-J6",
        "outputId": "29f8db82-991f-4e08-e3b1-69c6d0d7fdf3"
      },
      "execution_count": null,
      "outputs": [
        {
          "output_type": "execute_result",
          "data": {
            "text/plain": [
              "['a', 'c', 'e']"
            ]
          },
          "metadata": {},
          "execution_count": 30
        }
      ]
    },
    {
      "cell_type": "code",
      "source": [
        "# Esto tambien funciona con indices negativos\n",
        "print('Desde el ante-penultimo elemento, hasta el ultimo (sin incluirlo)', \n",
        "    mi_lista[-3:-1])\n",
        "print('Desde el inicio de la lista, hasta el penultimo elemento (sin incluirlo)', \n",
        "    mi_lista[:-2])\n",
        "print('Desde el indice -4, hasta el final de la lista', \n",
        "    mi_lista[-4:])"
      ],
      "metadata": {
        "colab": {
          "base_uri": "https://localhost:8080/"
        },
        "id": "K_YnrG2FWLxV",
        "outputId": "2de33897-0039-45fc-e4e3-c69c77625f71"
      },
      "execution_count": null,
      "outputs": [
        {
          "output_type": "stream",
          "name": "stdout",
          "text": [
            "Desde el ante-penultimo elemento, hasta el ultimo (sin incluirlo) ['e', 'f']\n",
            "Desde el inicio de la lista, hasta el penultimo elemento (sin incluirlo) ['a', 'b', 'c', 'd', 'e']\n",
            "Desde el indice -4, hasta el final de la lista ['d', 'e', 'f', 'g']\n"
          ]
        }
      ]
    },
    {
      "cell_type": "code",
      "source": [
        "mi_lista[::-1]"
      ],
      "metadata": {
        "colab": {
          "base_uri": "https://localhost:8080/"
        },
        "id": "KVM1Z5BwwWQd",
        "outputId": "4d6f01d3-5773-48d9-a8bb-ee0f943199ab"
      },
      "execution_count": null,
      "outputs": [
        {
          "output_type": "execute_result",
          "data": {
            "text/plain": [
              "['g', 'f', 'e', 'd', 'c', 'b', 'a']"
            ]
          },
          "metadata": {},
          "execution_count": 35
        }
      ]
    },
    {
      "cell_type": "code",
      "source": [],
      "metadata": {
        "id": "n8WcivWXwV2Q"
      },
      "execution_count": null,
      "outputs": []
    },
    {
      "cell_type": "code",
      "source": [
        "# Tambien se pueden combinar indices negativos y positivos en los rangos\n",
        "print('Desde el segundo elemento (indice 1), hasta el ultimo (sin incluirlo)', mi_lista[1:-1])"
      ],
      "metadata": {
        "colab": {
          "base_uri": "https://localhost:8080/"
        },
        "id": "Qn8hxScBXM79",
        "outputId": "3d107b00-c44c-4cd3-e36d-9ff44615ed7f"
      },
      "execution_count": null,
      "outputs": [
        {
          "output_type": "stream",
          "name": "stdout",
          "text": [
            "Desde el segundo elemento (indice 1), hasta el ultimo (sin incluirlo) ['b', 'c', 'd', 'e', 'f']\n"
          ]
        }
      ]
    },
    {
      "cell_type": "code",
      "source": [
        "# Ademas, Python nos da el operador `in` para saber si un elemento esta en una\n",
        "#   lista\n",
        "print(mi_lista)\n",
        "print('a esta en la lista?', \n",
        "      \"a\" in mi_lista)\n",
        "print('z esta en la lista?', \n",
        "      'z' in mi_lista)"
      ],
      "metadata": {
        "colab": {
          "base_uri": "https://localhost:8080/"
        },
        "id": "vTCVKAE3VXQ4",
        "outputId": "cf7654f7-7a51-472c-c8d4-c699a6394d10"
      },
      "execution_count": null,
      "outputs": [
        {
          "output_type": "stream",
          "name": "stdout",
          "text": [
            "['a', 'b', 'c', 'd', 'e', 'f', 'g']\n",
            "a esta en la lista? True\n",
            "z esta en la lista? False\n"
          ]
        }
      ]
    },
    {
      "cell_type": "code",
      "source": [],
      "metadata": {
        "id": "r1IXm5KDwyLR"
      },
      "execution_count": null,
      "outputs": []
    },
    {
      "cell_type": "code",
      "source": [
        "# Combinandolo con el operador `not` podemos saber si un elemento NO esta en una lista\n",
        "print(mi_lista)\n",
        "print('a no se encuentra en la lista:', \n",
        "      \"a\" not in mi_lista)\n",
        "print('z no se encuentra en la lista:', \n",
        "      \"z\" not in mi_lista)"
      ],
      "metadata": {
        "colab": {
          "base_uri": "https://localhost:8080/"
        },
        "id": "Fz80OzM1W1FS",
        "outputId": "80677851-343e-4088-c859-5c9dd2cdce37"
      },
      "execution_count": null,
      "outputs": [
        {
          "output_type": "stream",
          "name": "stdout",
          "text": [
            "['a', 'b', 'c', 'd', 'e', 'f', 'g']\n",
            "a no se encuentra en la lista: False\n",
            "z no se encuentra en la lista: True\n"
          ]
        }
      ]
    },
    {
      "cell_type": "code",
      "source": [
        "# Podemos verificar lo que aprendimos acerca de los rangos\n",
        "print(mi_lista, 'elemento 1:', mi_lista[1], 'elemento 5:', mi_lista[5])\n",
        "print(mi_lista[1] in mi_lista[1:5])\n",
        "print(mi_lista[5] in mi_lista[1:5])"
      ],
      "metadata": {
        "colab": {
          "base_uri": "https://localhost:8080/"
        },
        "id": "U9RQ4EO9XpU1",
        "outputId": "5a42f3b1-3d73-4781-88a1-bc728cc19ea8"
      },
      "execution_count": null,
      "outputs": [
        {
          "output_type": "stream",
          "name": "stdout",
          "text": [
            "['a', 'b', 'c', 'd', 'e', 'f', 'g'] elemento 1: b elemento 5: f\n",
            "True\n",
            "False\n"
          ]
        }
      ]
    },
    {
      "cell_type": "markdown",
      "source": [
        "### Challenge\n",
        "\n",
        "\n",
        "\n",
        "1.   Almacena el nombre de algunos de tus amigos en una lista llamada `amigos`. Después imprime el nombre de cada uno de ellos, accediendo a cada elemento de la lista, uno a la vez, con algún mensaje personalizado.\n",
        "2.   A partir de la lista `amigos`, crea la lista `mejores_amigos` tomando los dos primeros elementos.\n",
        "\n"
      ],
      "metadata": {
        "id": "vjU8tIpIB7ah"
      }
    },
    {
      "cell_type": "code",
      "source": [
        "amigos = [\"Cristina\", \"Ricardo\", \"Brandon\"]\n",
        "print(\"Hola \" + amigos[0])\n",
        "print(\"Hola \" + amigos[1])\n",
        "print(\"Hola \" + amigos[2])"
      ],
      "metadata": {
        "id": "BdWKKNDdDXJR",
        "colab": {
          "base_uri": "https://localhost:8080/"
        },
        "outputId": "c90873ec-4caa-4dae-84a1-9fff37e523a5"
      },
      "execution_count": null,
      "outputs": [
        {
          "output_type": "stream",
          "name": "stdout",
          "text": [
            "Hola Cristina\n",
            "Hola Ricardo\n",
            "Hola Brandon\n"
          ]
        }
      ]
    },
    {
      "cell_type": "code",
      "source": [
        "mejores_amigos = amigos[:2]\n",
        "print(mejores_amigos)"
      ],
      "metadata": {
        "id": "Qj6Hh68sDXGb",
        "colab": {
          "base_uri": "https://localhost:8080/"
        },
        "outputId": "364ca32c-b9ac-4666-fb0d-cb40aa01d92a"
      },
      "execution_count": null,
      "outputs": [
        {
          "output_type": "stream",
          "name": "stdout",
          "text": [
            "['Cristina', 'Ricardo']\n"
          ]
        }
      ]
    },
    {
      "cell_type": "code",
      "source": [
        "amigos[::2]"
      ],
      "metadata": {
        "id": "FZhly2VUDXDC",
        "colab": {
          "base_uri": "https://localhost:8080/"
        },
        "outputId": "7f7a5ee4-2b84-4e6b-8e3d-7d192af7e0c5"
      },
      "execution_count": null,
      "outputs": [
        {
          "output_type": "execute_result",
          "data": {
            "text/plain": [
              "['Cristina', 'Brandon']"
            ]
          },
          "metadata": {},
          "execution_count": 48
        }
      ]
    },
    {
      "cell_type": "code",
      "source": [
        "[amigos[0], amigos[-1]]"
      ],
      "metadata": {
        "colab": {
          "base_uri": "https://localhost:8080/"
        },
        "id": "sZoLZHLy1GTF",
        "outputId": "0e996cae-dd49-4d67-b70e-c99bdbb51c27"
      },
      "execution_count": null,
      "outputs": [
        {
          "output_type": "execute_result",
          "data": {
            "text/plain": [
              "['Cristina', 'Brandon']"
            ]
          },
          "metadata": {},
          "execution_count": 49
        }
      ]
    },
    {
      "cell_type": "code",
      "source": [
        "amigos[0:1]"
      ],
      "metadata": {
        "colab": {
          "base_uri": "https://localhost:8080/"
        },
        "id": "Oj2hmp6s1P6K",
        "outputId": "e674c1f4-e331-4efb-8390-95d2f4991faf"
      },
      "execution_count": null,
      "outputs": [
        {
          "output_type": "execute_result",
          "data": {
            "text/plain": [
              "['Cristina']"
            ]
          },
          "metadata": {},
          "execution_count": 51
        }
      ]
    },
    {
      "cell_type": "code",
      "source": [
        "amigos[-1:]"
      ],
      "metadata": {
        "colab": {
          "base_uri": "https://localhost:8080/"
        },
        "id": "im55Kqqg1alB",
        "outputId": "0e5f4add-e5e4-4522-c1b6-d21a8afb83f9"
      },
      "execution_count": null,
      "outputs": [
        {
          "output_type": "execute_result",
          "data": {
            "text/plain": [
              "['Brandon']"
            ]
          },
          "metadata": {},
          "execution_count": 52
        }
      ]
    },
    {
      "cell_type": "code",
      "source": [
        "amigos[0:1] + amigos[-1:]"
      ],
      "metadata": {
        "colab": {
          "base_uri": "https://localhost:8080/"
        },
        "id": "zqmeXZgp1fMQ",
        "outputId": "7393b108-9a44-4ce5-e093-7d66e9d42e3c"
      },
      "execution_count": null,
      "outputs": [
        {
          "output_type": "execute_result",
          "data": {
            "text/plain": [
              "['Cristina', 'Brandon']"
            ]
          },
          "metadata": {},
          "execution_count": 53
        }
      ]
    },
    {
      "cell_type": "markdown",
      "source": [
        "## Modificar una lista"
      ],
      "metadata": {
        "id": "m65RzUFbogce"
      }
    },
    {
      "cell_type": "code",
      "source": [
        "mi_lista = ['a', 'b', 'c', 'd', 'e', 'f', 'g']\n",
        "print(mi_lista)"
      ],
      "metadata": {
        "id": "uDlKfMYXHNbl"
      },
      "execution_count": null,
      "outputs": []
    },
    {
      "cell_type": "markdown",
      "source": [
        "### Modificar elementos"
      ],
      "metadata": {
        "id": "YqIYmRqQF3fN"
      }
    },
    {
      "cell_type": "code",
      "source": [
        "mi_lista_1 = mi_lista[:]\n",
        "mi_lista_1"
      ],
      "metadata": {
        "colab": {
          "base_uri": "https://localhost:8080/"
        },
        "id": "0yPavU16102z",
        "outputId": "3e8803df-b612-41c2-a9b8-845526341f53"
      },
      "execution_count": null,
      "outputs": [
        {
          "output_type": "execute_result",
          "data": {
            "text/plain": [
              "['a', 'b', 'c', 'd', 'e', 'f', 'g']"
            ]
          },
          "metadata": {},
          "execution_count": 57
        }
      ]
    },
    {
      "cell_type": "code",
      "source": [
        "mi_lista_1[1] = 'banana'"
      ],
      "metadata": {
        "id": "HERPvW4E19qK"
      },
      "execution_count": null,
      "outputs": []
    },
    {
      "cell_type": "code",
      "source": [
        "mi_lista_1"
      ],
      "metadata": {
        "colab": {
          "base_uri": "https://localhost:8080/"
        },
        "id": "GRzTIonO2JZi",
        "outputId": "e7a48472-3186-4524-de5d-25a8f52da8da"
      },
      "execution_count": null,
      "outputs": [
        {
          "output_type": "execute_result",
          "data": {
            "text/plain": [
              "['a', 'banana', 'c', 'd', 'e', 'f', 'g']"
            ]
          },
          "metadata": {},
          "execution_count": 60
        }
      ]
    },
    {
      "cell_type": "code",
      "source": [
        "# Para modificar un elemento dentro de una lista, se puede hacer uso del numero \n",
        "#   indice\n",
        "# Usamos el .copy() para no modificar la variable original\n",
        "mi_lista_1 = mi_lista.copy()\n",
        "print(mi_lista_1)\n",
        "... = \"banana\"\n",
        "print(mi_lista_1)"
      ],
      "metadata": {
        "colab": {
          "base_uri": "https://localhost:8080/",
          "height": 131
        },
        "id": "tGfigFGdaifK",
        "outputId": "5a358a94-a355-44bb-8134-f0c92f05f344"
      },
      "execution_count": null,
      "outputs": [
        {
          "output_type": "error",
          "ename": "SyntaxError",
          "evalue": "ignored",
          "traceback": [
            "\u001b[0;36m  File \u001b[0;32m\"<ipython-input-54-cbc9849fdab5>\"\u001b[0;36m, line \u001b[0;32m6\u001b[0m\n\u001b[0;31m    ... = \"banana\"\u001b[0m\n\u001b[0m    ^\u001b[0m\n\u001b[0;31mSyntaxError\u001b[0m\u001b[0;31m:\u001b[0m cannot assign to Ellipsis\n"
          ]
        }
      ]
    },
    {
      "cell_type": "code",
      "source": [
        "# Podemos tambien modificar rangos de elementos\n",
        "mi_lista_1 = mi_lista.copy()\n",
        "print(mi_lista_1)\n",
        "... = [\"banana\", 'cereza']\n",
        "print(mi_lista_1)"
      ],
      "metadata": {
        "colab": {
          "base_uri": "https://localhost:8080/"
        },
        "id": "sjxP243_bE9O",
        "outputId": "08b53ea8-b2d9-4265-e7b3-d57f2d483ec5"
      },
      "execution_count": null,
      "outputs": [
        {
          "output_type": "stream",
          "name": "stdout",
          "text": [
            "['a', 'b', 'c', 'd', 'e', 'f', 'g']\n",
            "['a', 'banana', 'cereza', 'd', 'e', 'f', 'g']\n"
          ]
        }
      ]
    },
    {
      "cell_type": "code",
      "source": [
        "# Puedes insertar mas elementos de los que remplazas\n",
        "mi_lista_1 = mi_lista.copy()\n",
        "print(mi_lista_1)\n",
        "mi_lista_1[1:3] = [\"banana\", 'cereza', 'calabaza', 'chayote']\n",
        "print(mi_lista_1)"
      ],
      "metadata": {
        "colab": {
          "base_uri": "https://localhost:8080/"
        },
        "id": "THvDVFaR8zoA",
        "outputId": "1d2d26b3-c1b0-49bd-8d39-5264f2768501"
      },
      "execution_count": null,
      "outputs": [
        {
          "output_type": "stream",
          "name": "stdout",
          "text": [
            "['a', 'b', 'c', 'd', 'e', 'f', 'g']\n",
            "['a', 'banana', 'cereza', 'calabaza', 'chayote', 'd', 'e', 'f', 'g']\n"
          ]
        }
      ]
    },
    {
      "cell_type": "code",
      "source": [
        "# Puedes insertar menos elementos de los que remplazas\n",
        "mi_lista_1 = mi_lista.copy()\n",
        "print(mi_lista_1)\n",
        "mi_lista_1[1:3] = [\"banana\"]\n",
        "print(mi_lista_1)"
      ],
      "metadata": {
        "colab": {
          "base_uri": "https://localhost:8080/"
        },
        "id": "tM4VXA4V9V1z",
        "outputId": "693c512b-1a88-47ff-c345-268743e83091"
      },
      "execution_count": null,
      "outputs": [
        {
          "output_type": "stream",
          "name": "stdout",
          "text": [
            "['a', 'b', 'c', 'd', 'e', 'f', 'g']\n",
            "['a', 'banana', 'd', 'e', 'f', 'g']\n"
          ]
        }
      ]
    },
    {
      "cell_type": "code",
      "source": [
        "# Pero esto no funciona si seleccionas un indice en vez de un rango\n",
        "mi_lista_1 = mi_lista.copy()\n",
        "print(mi_lista_1)\n",
        "mi_lista_1[2] = [\"cereza\", \"calabaza\"]\n",
        "print(mi_lista_1)\n",
        "\n",
        "# Notese que remplazamos un string 'b' por una lista"
      ],
      "metadata": {
        "colab": {
          "base_uri": "https://localhost:8080/"
        },
        "id": "t30gISbsBaVh",
        "outputId": "30c9c1f8-2d01-45f8-a830-53a191ce9a70"
      },
      "execution_count": null,
      "outputs": [
        {
          "output_type": "stream",
          "name": "stdout",
          "text": [
            "['a', 'b', 'c', 'd', 'e', 'f', 'g']\n",
            "['a', 'b', ['cereza', 'calavaza'], 'd', 'e', 'f', 'g']\n"
          ]
        }
      ]
    },
    {
      "cell_type": "code",
      "source": [
        "# Para hacer esto, tienes que seleccionar el rango que solo inclute ese elemento\n",
        "mi_lista_1 = mi_lista.copy()\n",
        "print(mi_lista_1)\n",
        "mi_lista_1[2:3] = [\"cereza\", \"calabaza\"]\n",
        "print(mi_lista_1)"
      ],
      "metadata": {
        "colab": {
          "base_uri": "https://localhost:8080/"
        },
        "id": "PBZiNppbB6ox",
        "outputId": "c0234653-038b-41af-f909-434b91f3ca10"
      },
      "execution_count": null,
      "outputs": [
        {
          "output_type": "stream",
          "name": "stdout",
          "text": [
            "['a', 'b', 'c', 'd', 'e', 'f', 'g']\n",
            "['a', 'b', 'cereza', 'calabaza', 'd', 'e', 'f', 'g']\n"
          ]
        }
      ]
    },
    {
      "cell_type": "markdown",
      "source": [
        "### Agregar elementos"
      ],
      "metadata": {
        "id": "rlJFMGAxGB6b"
      }
    },
    {
      "cell_type": "code",
      "source": [
        "# El modificar las listas por medio de indices no te permite insertar elementos\n",
        "#   sin susituir otros.\n",
        "# Para hacer esto, usamos el metodo .insert()\n",
        "# <lista>.insert(indice, elemento a ser insertado)\n",
        "\n",
        "mi_lista_1 = mi_lista.copy()\n",
        "print(mi_lista_1)\n",
        "...\n",
        "print(mi_lista_1)"
      ],
      "metadata": {
        "colab": {
          "base_uri": "https://localhost:8080/"
        },
        "id": "0lUkStilBLjP",
        "outputId": "ca8fab7e-0a51-4a79-ccdf-8175b700647b"
      },
      "execution_count": null,
      "outputs": [
        {
          "output_type": "stream",
          "name": "stdout",
          "text": [
            "['a', 'b', 'c', 'd', 'e', 'f', 'g']\n",
            "['a', 'banana', 'b', 'c', 'd', 'e', 'f', 'g']\n"
          ]
        }
      ]
    },
    {
      "cell_type": "code",
      "source": [
        "# Si queremos insertar un elemento al final de la lista usamos .append()\n",
        "mi_lista_1 = mi_lista.copy()\n",
        "print(mi_lista_1)\n",
        "...\n",
        "print(mi_lista_1)\n",
        "\n",
        "# Notese que no tenemos que especificar el indice"
      ],
      "metadata": {
        "colab": {
          "base_uri": "https://localhost:8080/"
        },
        "id": "DLInDfq8CVhw",
        "outputId": "10a3d4c0-92b6-426e-cc60-b4e0063aa414"
      },
      "execution_count": null,
      "outputs": [
        {
          "output_type": "stream",
          "name": "stdout",
          "text": [
            "['a', 'b', 'c', 'd', 'e', 'f', 'g']\n",
            "['a', 'b', 'c', 'd', 'e', 'f', 'g', 'guayaba']\n"
          ]
        }
      ]
    },
    {
      "cell_type": "code",
      "source": [
        "# Si queremos agregar todos los elementos de una lista, al final de la otra\n",
        "#   se puede hacer con .extend() \n",
        "mi_lista_1 = mi_lista.copy()\n",
        "mi_lista_2 = ['h', 'i', 'j']\n",
        "print(mi_lista_1)\n",
        "print(mi_lista_2)\n",
        "...\n",
        "print(mi_lista_1)\n"
      ],
      "metadata": {
        "colab": {
          "base_uri": "https://localhost:8080/"
        },
        "id": "RM2zfmNZCoDx",
        "outputId": "314b19f2-2629-4d10-a661-2af41d049a50"
      },
      "execution_count": null,
      "outputs": [
        {
          "output_type": "stream",
          "name": "stdout",
          "text": [
            "['a', 'b', 'c', 'd', 'e', 'f', 'g']\n",
            "['h', 'i', 'j']\n",
            "['a', 'b', 'c', 'd', 'e', 'f', 'g', 'h', 'i', 'j']\n"
          ]
        }
      ]
    },
    {
      "cell_type": "code",
      "source": [
        "# El operador `+` puede lograr algo similar\n",
        "mi_lista_1 = mi_lista.copy()\n",
        "mi_lista_2 = ['h', 'i', 'j']\n",
        "print(mi_lista_1)\n",
        "print(mi_lista_2)\n",
        "...\n",
        "print(mi_lista_1)\n",
        "\n",
        "# notese que en este caso, tuvimos que volver a asignar mi_lista"
      ],
      "metadata": {
        "colab": {
          "base_uri": "https://localhost:8080/"
        },
        "id": "T0aYZOB8D1rZ",
        "outputId": "0e460ad4-29fe-4732-9e67-00d6bf688c85"
      },
      "execution_count": null,
      "outputs": [
        {
          "output_type": "stream",
          "name": "stdout",
          "text": [
            "['a', 'b', 'c', 'd', 'e', 'f', 'g']\n",
            "['h', 'i', 'j']\n",
            "['a', 'b', 'c', 'd', 'e', 'f', 'g', 'h', 'i', 'j']\n"
          ]
        }
      ]
    },
    {
      "cell_type": "markdown",
      "source": [
        "### Quitar elementos"
      ],
      "metadata": {
        "id": "XS4e7AFyGHBG"
      }
    },
    {
      "cell_type": "code",
      "source": [
        "# Para eliminar elementos por indices, existe el metodo .pop()\n",
        "mi_lista_1 = mi_lista.copy()\n",
        "print(mi_lista_1)\n",
        "...\n",
        "print(mi_lista_1)"
      ],
      "metadata": {
        "colab": {
          "base_uri": "https://localhost:8080/"
        },
        "id": "buPRhlEnEe5h",
        "outputId": "b4c19a69-80e9-4a98-84c6-6667abe4c5ec"
      },
      "execution_count": null,
      "outputs": [
        {
          "output_type": "stream",
          "name": "stdout",
          "text": [
            "['a', 'b', 'c', 'd', 'e', 'f', 'g']\n",
            "['a', 'c', 'd', 'e', 'f', 'g']\n"
          ]
        }
      ]
    },
    {
      "cell_type": "code",
      "source": [
        "# Si no se especifica un indice, se elimina el ultimo elemento\n",
        "mi_lista_1 = mi_lista.copy()\n",
        "print(mi_lista_1)\n",
        "...\n",
        "print(mi_lista_1)"
      ],
      "metadata": {
        "colab": {
          "base_uri": "https://localhost:8080/"
        },
        "id": "-4iceoq6E-5J",
        "outputId": "e7483907-b7f0-4999-af01-c79bd8bef788"
      },
      "execution_count": null,
      "outputs": [
        {
          "output_type": "stream",
          "name": "stdout",
          "text": [
            "['a', 'b', 'c', 'd', 'e', 'f', 'g']\n",
            "['a', 'b', 'c', 'd', 'e', 'f']\n"
          ]
        }
      ]
    },
    {
      "cell_type": "code",
      "source": [
        "# Otra forma de borrar elementos, es usando la palabra clave `del`\n",
        "mi_lista_1 = mi_lista.copy()\n",
        "print(mi_lista_1)\n",
        "del mi_lista_1[1]\n",
        "print(mi_lista_1)"
      ],
      "metadata": {
        "colab": {
          "base_uri": "https://localhost:8080/"
        },
        "id": "e1hHGyFZFNEg",
        "outputId": "effa5bb6-e46a-47ec-ef4c-14d1b77f53e9"
      },
      "execution_count": null,
      "outputs": [
        {
          "output_type": "stream",
          "name": "stdout",
          "text": [
            "['a', 'b', 'c', 'd', 'e', 'f', 'g']\n",
            "['a', 'c', 'd', 'e', 'f', 'g']\n"
          ]
        }
      ]
    },
    {
      "cell_type": "code",
      "source": [
        "# Esto tambien borra rangos\n",
        "mi_lista_1 = mi_lista.copy()\n",
        "print(mi_lista_1)\n",
        "del mi_lista_1[1:3]\n",
        "print(mi_lista_1)"
      ],
      "metadata": {
        "colab": {
          "base_uri": "https://localhost:8080/"
        },
        "id": "cte40HAWFfZ5",
        "outputId": "6fcb42e2-e7e3-44ce-a6a7-ea75526d5cc5"
      },
      "execution_count": null,
      "outputs": [
        {
          "output_type": "stream",
          "name": "stdout",
          "text": [
            "['a', 'b', 'c', 'd', 'e', 'f', 'g']\n",
            "['a', 'd', 'e', 'f', 'g']\n"
          ]
        }
      ]
    },
    {
      "cell_type": "code",
      "source": [
        "# Tambien puedes borrar elementos especificando cual quieres borrar con .remove()\n",
        "mi_lista_1 = mi_lista.copy()\n",
        "print(mi_lista_1)\n",
        "...\n",
        "print(mi_lista_1)"
      ],
      "metadata": {
        "colab": {
          "base_uri": "https://localhost:8080/"
        },
        "id": "V6LhdCtlGLac",
        "outputId": "1397cd74-3103-48bd-c6ee-29ad7d170a22"
      },
      "execution_count": null,
      "outputs": [
        {
          "output_type": "stream",
          "name": "stdout",
          "text": [
            "['a', 'b', 'c', 'd', 'e', 'f', 'g']\n",
            "['a', 'c', 'd', 'e', 'f', 'g']\n"
          ]
        }
      ]
    },
    {
      "cell_type": "code",
      "source": [
        "# .remove() solo elimina el primer caso que encuentra\n",
        "mi_lista_1 = mi_lista.copy()\n",
        "mi_lista_1.insert(1, 'b')\n",
        "print(mi_lista_1)\n",
        "mi_lista_1.remove('b')\n",
        "print(mi_lista_1)"
      ],
      "metadata": {
        "colab": {
          "base_uri": "https://localhost:8080/"
        },
        "id": "-jgrkyk3Ggwc",
        "outputId": "42ef6db7-d41b-492a-97f6-e82e0288d11c"
      },
      "execution_count": null,
      "outputs": [
        {
          "output_type": "stream",
          "name": "stdout",
          "text": [
            "['a', 'b', 'b', 'c', 'd', 'e', 'f', 'g']\n",
            "['a', 'b', 'c', 'd', 'e', 'f', 'g']\n"
          ]
        }
      ]
    },
    {
      "cell_type": "markdown",
      "source": [
        "### Orderar una lista"
      ],
      "metadata": {
        "id": "2Xk6btZ2oyJL"
      }
    },
    {
      "cell_type": "code",
      "source": [
        "mi_lista = [\n",
        "  'bananas', 'aguacate', 'durazno',  'espinaca', 'fresas', 'guayaba', 'cerezas']\n",
        "print(mi_lista)"
      ],
      "metadata": {
        "colab": {
          "base_uri": "https://localhost:8080/"
        },
        "id": "pD2-pJzRHG-2",
        "outputId": "decf0c76-9b19-4574-dad9-9e094642f598"
      },
      "execution_count": null,
      "outputs": [
        {
          "output_type": "stream",
          "name": "stdout",
          "text": [
            "['bananas', 'aguacate', 'durazno', 'espinaca', 'fresas', 'guayaba', 'cerezas']\n"
          ]
        }
      ]
    },
    {
      "cell_type": "code",
      "source": [
        "# el metodo sort nos permite ordenar alfanumericamente una lista\n",
        "mi_lista_1 = mi_lista.copy()\n",
        "print(mi_lista_1)\n",
        "...\n",
        "print(mi_lista_1)"
      ],
      "metadata": {
        "colab": {
          "base_uri": "https://localhost:8080/"
        },
        "id": "pfmtNVT4HblU",
        "outputId": "b95aa17c-ecac-452a-9c90-327973f8fbcb"
      },
      "execution_count": null,
      "outputs": [
        {
          "output_type": "stream",
          "name": "stdout",
          "text": [
            "['bananas', 'aguacate', 'durazno', 'espinaca', 'fresas', 'guayaba', 'cerezas']\n",
            "['aguacate', 'bananas', 'cerezas', 'durazno', 'espinaca', 'fresas', 'guayaba']\n"
          ]
        }
      ]
    },
    {
      "cell_type": "code",
      "source": [
        "# el orden puede ser descendiente de la siguiente forma\n",
        "mi_lista_1 = mi_lista.copy()\n",
        "print(mi_lista_1)\n",
        "...\n",
        "print(mi_lista_1)"
      ],
      "metadata": {
        "colab": {
          "base_uri": "https://localhost:8080/"
        },
        "id": "N3j8XXGyILUb",
        "outputId": "369420c5-e975-4874-e7ea-753d6b5ce848"
      },
      "execution_count": null,
      "outputs": [
        {
          "output_type": "stream",
          "name": "stdout",
          "text": [
            "['bananas', 'aguacate', 'durazno', 'espinaca', 'fresas', 'guayaba', 'cerezas']\n",
            "['guayaba', 'fresas', 'espinaca', 'durazno', 'cerezas', 'bananas', 'aguacate']\n"
          ]
        }
      ]
    },
    {
      "cell_type": "code",
      "source": [
        "# el metodo reverse invierte el orden de una lista\n",
        "mi_lista_1 = mi_lista.copy()\n",
        "print(mi_lista_1)\n",
        "...\n",
        "print(mi_lista_1)"
      ],
      "metadata": {
        "colab": {
          "base_uri": "https://localhost:8080/"
        },
        "id": "pMpVShiQIY9M",
        "outputId": "0d224aa7-eeb1-4586-da0f-48e729410289"
      },
      "execution_count": null,
      "outputs": [
        {
          "output_type": "stream",
          "name": "stdout",
          "text": [
            "['bananas', 'aguacate', 'durazno', 'espinaca', 'fresas', 'guayaba', 'cerezas']\n",
            "['cerezas', 'guayaba', 'fresas', 'espinaca', 'durazno', 'aguacate', 'bananas']\n"
          ]
        }
      ]
    },
    {
      "cell_type": "markdown",
      "source": [
        "### Challenge"
      ],
      "metadata": {
        "id": "1NN_pzvCDxaD"
      }
    },
    {
      "cell_type": "markdown",
      "source": [
        "Piensa en 5 lugares del mundo que te gustaría conocer.\n",
        "\n",
        "\n",
        "\n",
        "1.   Almacena en una lista el nombre de estos lugares.\n",
        "2.   Imprime la lista en orden alfabético.\n",
        "3.   Imagina que ya has conocido uno de estos lugares, eliminalo de la lista.\n",
        "4.   De los restantes, piensa sería tu favorito y modifica la lista de tal forma que el nombre de este lugar quede en mayúsculas.\n",
        "5.   Agrega otro lugar que te gustaría conocer.\n",
        "\n"
      ],
      "metadata": {
        "id": "iNhLcb1UDz8d"
      }
    },
    {
      "cell_type": "code",
      "source": [],
      "metadata": {
        "id": "QF8sh6MMDzI7"
      },
      "execution_count": null,
      "outputs": []
    },
    {
      "cell_type": "code",
      "source": [],
      "metadata": {
        "id": "G3PBD-h-EguC"
      },
      "execution_count": null,
      "outputs": []
    },
    {
      "cell_type": "code",
      "source": [],
      "metadata": {
        "id": "gDxPsFzYEgrH"
      },
      "execution_count": null,
      "outputs": []
    },
    {
      "cell_type": "code",
      "source": [],
      "metadata": {
        "id": "tm9BxNaDEgoY"
      },
      "execution_count": null,
      "outputs": []
    },
    {
      "cell_type": "code",
      "source": [],
      "metadata": {
        "id": "GWTSgV_bEgll"
      },
      "execution_count": null,
      "outputs": []
    },
    {
      "cell_type": "markdown",
      "source": [
        "En la siguiente lista agrega el numero `7000` justo despues del numero `6000` (en la misma lista anidada)  \n",
        "  \n",
        "Resultado esperado: `[10, 20, [300, 400, [5000, 6000, 7000], 500], 30, 40]`"
      ],
      "metadata": {
        "id": "Ia4VEsrmlOia"
      }
    },
    {
      "cell_type": "code",
      "source": [
        "lista_challenge = [10, 20, [300, 400, [5000, 6000], 500], 30, 40]"
      ],
      "metadata": {
        "id": "K8RM6ssulFer"
      },
      "execution_count": null,
      "outputs": []
    },
    {
      "cell_type": "code",
      "source": [],
      "metadata": {
        "id": "EfNhKRA1lFa8"
      },
      "execution_count": null,
      "outputs": []
    },
    {
      "cell_type": "code",
      "source": [],
      "metadata": {
        "id": "FEtqR0NZlFXk"
      },
      "execution_count": null,
      "outputs": []
    },
    {
      "cell_type": "markdown",
      "source": [
        "\n",
        "## Metodos listas\n",
        "\n",
        "\n"
      ],
      "metadata": {
        "id": "pTEF2A-fDIdV"
      }
    },
    {
      "cell_type": "markdown",
      "source": [
        "|Método|Descripción|\n",
        "|--- |--- |\n",
        "|append()|Agrega un elemento al final de la lista|\n",
        "|clear()|Elimina todos los elementos de la lista|\n",
        "|copy()|Devuelve una copia de la lista|\n",
        "|count()|Devuelve el número de elementos con el valor especificado|\n",
        "|extend()|Agrega los elementos de una lista (o cualquier iterable), al final de la lista actual|\n",
        "|index()|Devuelve el índice del primer elemento con el valor especificado|\n",
        "|insert()|Agrega un elemento en la posición especificada|\n",
        "|pop()|Remueve el elemento en la posición especificada|\n",
        "|remove()|Elimina el elemento con el valor especificado|\n",
        "|reverse()|Invierte el orden de la lista|\n",
        "|sort()|Ordena la lista|\n"
      ],
      "metadata": {
        "id": "fic8cWJsI2BZ"
      }
    },
    {
      "cell_type": "markdown",
      "source": [
        "## Funciones para listas"
      ],
      "metadata": {
        "id": "fUxhyuEqsV2E"
      }
    },
    {
      "cell_type": "code",
      "source": [
        "# Uno puede acceder a la longitud de una lista usando la funcion len()\n",
        "lista_l3 = [1, 2, 3]\n",
        "print('la longitud de ', lista_l3, ' es de ', len(lista_l3))\n",
        "lista_l4 = [1, 2, 3, 4]\n",
        "print('la longitud de ', lista_l4, ' es de ', len(lista_l4))\n",
        "lista_l5 = [1, 2, 3, 4, 5]\n",
        "print('la longitud de ', lista_l5, ' es de ', len(lista_l5))"
      ],
      "metadata": {
        "id": "ZiuA5CQPsZ4g"
      },
      "execution_count": null,
      "outputs": []
    },
    {
      "cell_type": "code",
      "source": [
        "# len() funciona para otros tipos de datos\n",
        "nombre = 'Alejandro'\n",
        "print('Cuantas letras tiene mi nombre? ', len(nombre))"
      ],
      "metadata": {
        "id": "vKctUYMjtOiT"
      },
      "execution_count": null,
      "outputs": []
    },
    {
      "cell_type": "code",
      "source": [
        "# En python (no solo para las listas) uno puede ver el tipo de cualquier elemento\n",
        "#   usando type()\n",
        "print(type(['a', 'b', 'c']))\n",
        "print(type(0))\n",
        "print(type('A'))\n",
        "print(type(True))"
      ],
      "metadata": {
        "id": "Bi8zbynltLtv"
      },
      "execution_count": null,
      "outputs": []
    },
    {
      "cell_type": "markdown",
      "source": [],
      "metadata": {
        "id": "vGPZDn9YFvvF"
      }
    }
  ]
}